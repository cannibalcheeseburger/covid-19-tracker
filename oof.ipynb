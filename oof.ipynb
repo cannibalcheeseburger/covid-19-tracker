{
 "cells": [
  {
   "cell_type": "code",
   "execution_count": 204,
   "metadata": {},
   "outputs": [],
   "source": [
    "import pandas as pd\n",
    "df = pd.read_csv(\"https://api.covid19india.org/csv/latest/case_time_series.csv\")\n",
    "df['Date'] = df['Date'].astype('str') + \"2020\"\n",
    "df['Date'] = pd.to_datetime(df['Date'],format=\"%d %B %Y\")\n",
    "df['Date'] = df['Date'].astype('datetime64[ns]')"
   ]
  },
  {
   "cell_type": "code",
   "execution_count": 205,
   "metadata": {},
   "outputs": [
    {
     "output_type": "execute_result",
     "data": {
      "text/plain": "        Date  Daily Confirmed  Total Confirmed  Daily Recovered  \\\n0 2020-01-30                1                1                0   \n1 2020-01-31                0                1                0   \n2 2020-02-01                0                1                0   \n3 2020-02-02                1                2                0   \n4 2020-02-03                1                3                0   \n\n   Total Recovered  Daily Deceased  Total Deceased  \n0                0               0               0  \n1                0               0               0  \n2                0               0               0  \n3                0               0               0  \n4                0               0               0  ",
      "text/html": "<div>\n<style scoped>\n    .dataframe tbody tr th:only-of-type {\n        vertical-align: middle;\n    }\n\n    .dataframe tbody tr th {\n        vertical-align: top;\n    }\n\n    .dataframe thead th {\n        text-align: right;\n    }\n</style>\n<table border=\"1\" class=\"dataframe\">\n  <thead>\n    <tr style=\"text-align: right;\">\n      <th></th>\n      <th>Date</th>\n      <th>Daily Confirmed</th>\n      <th>Total Confirmed</th>\n      <th>Daily Recovered</th>\n      <th>Total Recovered</th>\n      <th>Daily Deceased</th>\n      <th>Total Deceased</th>\n    </tr>\n  </thead>\n  <tbody>\n    <tr>\n      <td>0</td>\n      <td>2020-01-30</td>\n      <td>1</td>\n      <td>1</td>\n      <td>0</td>\n      <td>0</td>\n      <td>0</td>\n      <td>0</td>\n    </tr>\n    <tr>\n      <td>1</td>\n      <td>2020-01-31</td>\n      <td>0</td>\n      <td>1</td>\n      <td>0</td>\n      <td>0</td>\n      <td>0</td>\n      <td>0</td>\n    </tr>\n    <tr>\n      <td>2</td>\n      <td>2020-02-01</td>\n      <td>0</td>\n      <td>1</td>\n      <td>0</td>\n      <td>0</td>\n      <td>0</td>\n      <td>0</td>\n    </tr>\n    <tr>\n      <td>3</td>\n      <td>2020-02-02</td>\n      <td>1</td>\n      <td>2</td>\n      <td>0</td>\n      <td>0</td>\n      <td>0</td>\n      <td>0</td>\n    </tr>\n    <tr>\n      <td>4</td>\n      <td>2020-02-03</td>\n      <td>1</td>\n      <td>3</td>\n      <td>0</td>\n      <td>0</td>\n      <td>0</td>\n      <td>0</td>\n    </tr>\n  </tbody>\n</table>\n</div>"
     },
     "metadata": {},
     "execution_count": 205
    }
   ],
   "source": [
    "df.head()"
   ]
  },
  {
   "cell_type": "code",
   "execution_count": 4,
   "metadata": {},
   "outputs": [],
   "source": [
    "import datetime\n",
    "import pandas as pd\n",
    "df = pd.read_csv('https://api.covid19india.org/csv/latest/state_wise.csv')\n",
    "last_update = df['Last_Updated_Time'].max() \n",
    "df = df.replace('Total','All States')"
   ]
  },
  {
   "cell_type": "code",
   "execution_count": 5,
   "metadata": {},
   "outputs": [
    {
     "output_type": "execute_result",
     "data": {
      "text/plain": "         State  Confirmed  Recovered  Deaths  Active    Last_Updated_Time  \\\n0   All States     568315     335638   16918  215699  30/06/2020 13:55:13   \n1  Maharashtra     169883      88960    7610   73298  29/06/2020 19:54:14   \n2   Tamil Nadu      86224      47749    1141   37334  29/06/2020 18:50:15   \n3        Delhi      85161      56235    2680   26246  29/06/2020 21:46:14   \n4      Gujarat      32023      23248    1828    6947  29/06/2020 20:26:16   \n\n   Migrated_Other State_code  Delta_Confirmed  Delta_Recovered  Delta_Deaths  \\\n0              60         TT              779              367            14   \n1              15         MH                0                0             0   \n2               0         TN                0                0             0   \n3               0         DL                0                0             0   \n4               0         GJ                0                0             0   \n\n                                         State_Notes  \n0                                                NaN  \n1  15 cases were marked as non-covid deaths in MH...  \n2  2 deaths cross notified to other states from C...  \n3  Delhi bulletins in the morning, containing dat...  \n4                                                NaN  ",
      "text/html": "<div>\n<style scoped>\n    .dataframe tbody tr th:only-of-type {\n        vertical-align: middle;\n    }\n\n    .dataframe tbody tr th {\n        vertical-align: top;\n    }\n\n    .dataframe thead th {\n        text-align: right;\n    }\n</style>\n<table border=\"1\" class=\"dataframe\">\n  <thead>\n    <tr style=\"text-align: right;\">\n      <th></th>\n      <th>State</th>\n      <th>Confirmed</th>\n      <th>Recovered</th>\n      <th>Deaths</th>\n      <th>Active</th>\n      <th>Last_Updated_Time</th>\n      <th>Migrated_Other</th>\n      <th>State_code</th>\n      <th>Delta_Confirmed</th>\n      <th>Delta_Recovered</th>\n      <th>Delta_Deaths</th>\n      <th>State_Notes</th>\n    </tr>\n  </thead>\n  <tbody>\n    <tr>\n      <td>0</td>\n      <td>All States</td>\n      <td>568315</td>\n      <td>335638</td>\n      <td>16918</td>\n      <td>215699</td>\n      <td>30/06/2020 13:55:13</td>\n      <td>60</td>\n      <td>TT</td>\n      <td>779</td>\n      <td>367</td>\n      <td>14</td>\n      <td>NaN</td>\n    </tr>\n    <tr>\n      <td>1</td>\n      <td>Maharashtra</td>\n      <td>169883</td>\n      <td>88960</td>\n      <td>7610</td>\n      <td>73298</td>\n      <td>29/06/2020 19:54:14</td>\n      <td>15</td>\n      <td>MH</td>\n      <td>0</td>\n      <td>0</td>\n      <td>0</td>\n      <td>15 cases were marked as non-covid deaths in MH...</td>\n    </tr>\n    <tr>\n      <td>2</td>\n      <td>Tamil Nadu</td>\n      <td>86224</td>\n      <td>47749</td>\n      <td>1141</td>\n      <td>37334</td>\n      <td>29/06/2020 18:50:15</td>\n      <td>0</td>\n      <td>TN</td>\n      <td>0</td>\n      <td>0</td>\n      <td>0</td>\n      <td>2 deaths cross notified to other states from C...</td>\n    </tr>\n    <tr>\n      <td>3</td>\n      <td>Delhi</td>\n      <td>85161</td>\n      <td>56235</td>\n      <td>2680</td>\n      <td>26246</td>\n      <td>29/06/2020 21:46:14</td>\n      <td>0</td>\n      <td>DL</td>\n      <td>0</td>\n      <td>0</td>\n      <td>0</td>\n      <td>Delhi bulletins in the morning, containing dat...</td>\n    </tr>\n    <tr>\n      <td>4</td>\n      <td>Gujarat</td>\n      <td>32023</td>\n      <td>23248</td>\n      <td>1828</td>\n      <td>6947</td>\n      <td>29/06/2020 20:26:16</td>\n      <td>0</td>\n      <td>GJ</td>\n      <td>0</td>\n      <td>0</td>\n      <td>0</td>\n      <td>NaN</td>\n    </tr>\n  </tbody>\n</table>\n</div>"
     },
     "metadata": {},
     "execution_count": 5
    }
   ],
   "source": [
    "df.head()"
   ]
  },
  {
   "cell_type": "code",
   "execution_count": 1,
   "metadata": {},
   "outputs": [],
   "source": [
    "import datetime\n",
    "import pandas as pd\n",
    "df = pd.read_csv(\"https://api.covid19india.org/csv/latest/state_wise_daily.csv\")\n",
    "df['Date'] = pd.to_datetime(df['Date'],format=\"%d-%b-%y\")\n"
   ]
  },
  {
   "cell_type": "code",
   "execution_count": 2,
   "metadata": {},
   "outputs": [
    {
     "output_type": "error",
     "ename": "AttributeError",
     "evalue": "'DataFrame' object has no attribute 'State_code'",
     "traceback": [
      "\u001b[0;31m---------------------------------------------------------------------------\u001b[0m",
      "\u001b[0;31mAttributeError\u001b[0m                            Traceback (most recent call last)",
      "\u001b[0;32m<ipython-input-2-b6335c60de55>\u001b[0m in \u001b[0;36m<module>\u001b[0;34m\u001b[0m\n\u001b[0;32m----> 1\u001b[0;31m \u001b[0mstate_codes\u001b[0m \u001b[0;34m=\u001b[0m \u001b[0mdict\u001b[0m\u001b[0;34m(\u001b[0m\u001b[0mzip\u001b[0m\u001b[0;34m(\u001b[0m\u001b[0mdf\u001b[0m\u001b[0;34m.\u001b[0m\u001b[0mState_code\u001b[0m\u001b[0;34m.\u001b[0m\u001b[0munique\u001b[0m\u001b[0;34m(\u001b[0m\u001b[0;34m)\u001b[0m\u001b[0;34m,\u001b[0m\u001b[0mdf\u001b[0m\u001b[0;34m.\u001b[0m\u001b[0mState\u001b[0m\u001b[0;34m.\u001b[0m\u001b[0munique\u001b[0m\u001b[0;34m(\u001b[0m\u001b[0;34m)\u001b[0m\u001b[0;34m)\u001b[0m\u001b[0;34m)\u001b[0m\u001b[0;34m\u001b[0m\u001b[0;34m\u001b[0m\u001b[0m\n\u001b[0m\u001b[1;32m      2\u001b[0m \u001b[0mstate_codes\u001b[0m\u001b[0;34m[\u001b[0m\u001b[0;34m'TT'\u001b[0m\u001b[0;34m]\u001b[0m\u001b[0;34m\u001b[0m\u001b[0;34m\u001b[0m\u001b[0m\n",
      "\u001b[0;32m~/anaconda3/lib/python3.7/site-packages/pandas/core/generic.py\u001b[0m in \u001b[0;36m__getattr__\u001b[0;34m(self, name)\u001b[0m\n\u001b[1;32m   5177\u001b[0m             \u001b[0;32mif\u001b[0m \u001b[0mself\u001b[0m\u001b[0;34m.\u001b[0m\u001b[0m_info_axis\u001b[0m\u001b[0;34m.\u001b[0m\u001b[0m_can_hold_identifiers_and_holds_name\u001b[0m\u001b[0;34m(\u001b[0m\u001b[0mname\u001b[0m\u001b[0;34m)\u001b[0m\u001b[0;34m:\u001b[0m\u001b[0;34m\u001b[0m\u001b[0;34m\u001b[0m\u001b[0m\n\u001b[1;32m   5178\u001b[0m                 \u001b[0;32mreturn\u001b[0m \u001b[0mself\u001b[0m\u001b[0;34m[\u001b[0m\u001b[0mname\u001b[0m\u001b[0;34m]\u001b[0m\u001b[0;34m\u001b[0m\u001b[0;34m\u001b[0m\u001b[0m\n\u001b[0;32m-> 5179\u001b[0;31m             \u001b[0;32mreturn\u001b[0m \u001b[0mobject\u001b[0m\u001b[0;34m.\u001b[0m\u001b[0m__getattribute__\u001b[0m\u001b[0;34m(\u001b[0m\u001b[0mself\u001b[0m\u001b[0;34m,\u001b[0m \u001b[0mname\u001b[0m\u001b[0;34m)\u001b[0m\u001b[0;34m\u001b[0m\u001b[0;34m\u001b[0m\u001b[0m\n\u001b[0m\u001b[1;32m   5180\u001b[0m \u001b[0;34m\u001b[0m\u001b[0m\n\u001b[1;32m   5181\u001b[0m     \u001b[0;32mdef\u001b[0m \u001b[0m__setattr__\u001b[0m\u001b[0;34m(\u001b[0m\u001b[0mself\u001b[0m\u001b[0;34m,\u001b[0m \u001b[0mname\u001b[0m\u001b[0;34m,\u001b[0m \u001b[0mvalue\u001b[0m\u001b[0;34m)\u001b[0m\u001b[0;34m:\u001b[0m\u001b[0;34m\u001b[0m\u001b[0;34m\u001b[0m\u001b[0m\n",
      "\u001b[0;31mAttributeError\u001b[0m: 'DataFrame' object has no attribute 'State_code'"
     ]
    }
   ],
   "source": [
    "state_codes = dict(zip(df.State_code.unique(),df.State.unique()))\n",
    "state_codes['TT']"
   ]
  },
  {
   "cell_type": "code",
   "execution_count": 163,
   "metadata": {},
   "outputs": [
    {
     "output_type": "execute_result",
     "data": {
      "text/plain": "           TT  AN     AP   AR    AS    BR   CH    CT   DN  DD  ...  SK     TN  \\\nIndex                                                          ...              \n0          81   0      1    0     0     0    0     0    0   0  ...   0      1   \n1           2   0      0    0     0     0    0     0    0   0  ...   0      0   \n2           9   0      0    0     0     0    0     0    0   0  ...   0      0   \n3         108   0      1    0     0     0    0     0    0   0  ...   0      1   \n4           2   0      0    0     0     0    0     0    0   0  ...   0      0   \n...       ...  ..    ...  ...   ...   ...  ...   ...  ...  ..  ...  ..    ...   \n313     15689   0    146    1     8    56    6    13    0   0  ...   0    957   \n314    295918  43   5196   49  4248  6669  335  1885   50   0  ...  40  41357   \n315    529474  72  12285  177  7064  8980  428  2602  186   0  ...  87  78335   \n316     16102   0    157    1     8    58    6    13    0   0  ...   0   1025   \n317    310137  43   5480   54  4815  6930  335  1937   56   0  ...  40  44094   \n\n          TG    TR     UP    UT     WB    UN     Status       Date  \nIndex                                                               \n0          1     0     12     0      0     0  Confirmed 2020-03-14  \n1          0     0      0     0      0     0  Recovered 2020-03-14  \n2          0     0      4     0      0     0   Deceased 2020-03-14  \n3          3     0     13     0      0     0  Confirmed 2020-03-15  \n4          0     0      0     0      0     0  Recovered 2020-03-15  \n...      ...   ...    ...   ...    ...   ...        ...        ...  \n313      237     1    630    37    616     0  Recovered 2020-06-26  \n314     4766  1062  13583  1822  10535     0   Deceased 2020-06-26  \n315    13436  1339  21549  2791  16711  8023  Confirmed 2020-06-27  \n316      243     1    649    37    629     0  Recovered 2020-06-27  \n317     4928  1078  14215  1909  10789     0   Deceased 2020-06-27  \n\n[318 rows x 41 columns]",
      "text/html": "<div>\n<style scoped>\n    .dataframe tbody tr th:only-of-type {\n        vertical-align: middle;\n    }\n\n    .dataframe tbody tr th {\n        vertical-align: top;\n    }\n\n    .dataframe thead th {\n        text-align: right;\n    }\n</style>\n<table border=\"1\" class=\"dataframe\">\n  <thead>\n    <tr style=\"text-align: right;\">\n      <th></th>\n      <th>TT</th>\n      <th>AN</th>\n      <th>AP</th>\n      <th>AR</th>\n      <th>AS</th>\n      <th>BR</th>\n      <th>CH</th>\n      <th>CT</th>\n      <th>DN</th>\n      <th>DD</th>\n      <th>...</th>\n      <th>SK</th>\n      <th>TN</th>\n      <th>TG</th>\n      <th>TR</th>\n      <th>UP</th>\n      <th>UT</th>\n      <th>WB</th>\n      <th>UN</th>\n      <th>Status</th>\n      <th>Date</th>\n    </tr>\n    <tr>\n      <th>Index</th>\n      <th></th>\n      <th></th>\n      <th></th>\n      <th></th>\n      <th></th>\n      <th></th>\n      <th></th>\n      <th></th>\n      <th></th>\n      <th></th>\n      <th></th>\n      <th></th>\n      <th></th>\n      <th></th>\n      <th></th>\n      <th></th>\n      <th></th>\n      <th></th>\n      <th></th>\n      <th></th>\n      <th></th>\n    </tr>\n  </thead>\n  <tbody>\n    <tr>\n      <td>0</td>\n      <td>81</td>\n      <td>0</td>\n      <td>1</td>\n      <td>0</td>\n      <td>0</td>\n      <td>0</td>\n      <td>0</td>\n      <td>0</td>\n      <td>0</td>\n      <td>0</td>\n      <td>...</td>\n      <td>0</td>\n      <td>1</td>\n      <td>1</td>\n      <td>0</td>\n      <td>12</td>\n      <td>0</td>\n      <td>0</td>\n      <td>0</td>\n      <td>Confirmed</td>\n      <td>2020-03-14</td>\n    </tr>\n    <tr>\n      <td>1</td>\n      <td>2</td>\n      <td>0</td>\n      <td>0</td>\n      <td>0</td>\n      <td>0</td>\n      <td>0</td>\n      <td>0</td>\n      <td>0</td>\n      <td>0</td>\n      <td>0</td>\n      <td>...</td>\n      <td>0</td>\n      <td>0</td>\n      <td>0</td>\n      <td>0</td>\n      <td>0</td>\n      <td>0</td>\n      <td>0</td>\n      <td>0</td>\n      <td>Recovered</td>\n      <td>2020-03-14</td>\n    </tr>\n    <tr>\n      <td>2</td>\n      <td>9</td>\n      <td>0</td>\n      <td>0</td>\n      <td>0</td>\n      <td>0</td>\n      <td>0</td>\n      <td>0</td>\n      <td>0</td>\n      <td>0</td>\n      <td>0</td>\n      <td>...</td>\n      <td>0</td>\n      <td>0</td>\n      <td>0</td>\n      <td>0</td>\n      <td>4</td>\n      <td>0</td>\n      <td>0</td>\n      <td>0</td>\n      <td>Deceased</td>\n      <td>2020-03-14</td>\n    </tr>\n    <tr>\n      <td>3</td>\n      <td>108</td>\n      <td>0</td>\n      <td>1</td>\n      <td>0</td>\n      <td>0</td>\n      <td>0</td>\n      <td>0</td>\n      <td>0</td>\n      <td>0</td>\n      <td>0</td>\n      <td>...</td>\n      <td>0</td>\n      <td>1</td>\n      <td>3</td>\n      <td>0</td>\n      <td>13</td>\n      <td>0</td>\n      <td>0</td>\n      <td>0</td>\n      <td>Confirmed</td>\n      <td>2020-03-15</td>\n    </tr>\n    <tr>\n      <td>4</td>\n      <td>2</td>\n      <td>0</td>\n      <td>0</td>\n      <td>0</td>\n      <td>0</td>\n      <td>0</td>\n      <td>0</td>\n      <td>0</td>\n      <td>0</td>\n      <td>0</td>\n      <td>...</td>\n      <td>0</td>\n      <td>0</td>\n      <td>0</td>\n      <td>0</td>\n      <td>0</td>\n      <td>0</td>\n      <td>0</td>\n      <td>0</td>\n      <td>Recovered</td>\n      <td>2020-03-15</td>\n    </tr>\n    <tr>\n      <td>...</td>\n      <td>...</td>\n      <td>...</td>\n      <td>...</td>\n      <td>...</td>\n      <td>...</td>\n      <td>...</td>\n      <td>...</td>\n      <td>...</td>\n      <td>...</td>\n      <td>...</td>\n      <td>...</td>\n      <td>...</td>\n      <td>...</td>\n      <td>...</td>\n      <td>...</td>\n      <td>...</td>\n      <td>...</td>\n      <td>...</td>\n      <td>...</td>\n      <td>...</td>\n      <td>...</td>\n    </tr>\n    <tr>\n      <td>313</td>\n      <td>15689</td>\n      <td>0</td>\n      <td>146</td>\n      <td>1</td>\n      <td>8</td>\n      <td>56</td>\n      <td>6</td>\n      <td>13</td>\n      <td>0</td>\n      <td>0</td>\n      <td>...</td>\n      <td>0</td>\n      <td>957</td>\n      <td>237</td>\n      <td>1</td>\n      <td>630</td>\n      <td>37</td>\n      <td>616</td>\n      <td>0</td>\n      <td>Recovered</td>\n      <td>2020-06-26</td>\n    </tr>\n    <tr>\n      <td>314</td>\n      <td>295918</td>\n      <td>43</td>\n      <td>5196</td>\n      <td>49</td>\n      <td>4248</td>\n      <td>6669</td>\n      <td>335</td>\n      <td>1885</td>\n      <td>50</td>\n      <td>0</td>\n      <td>...</td>\n      <td>40</td>\n      <td>41357</td>\n      <td>4766</td>\n      <td>1062</td>\n      <td>13583</td>\n      <td>1822</td>\n      <td>10535</td>\n      <td>0</td>\n      <td>Deceased</td>\n      <td>2020-06-26</td>\n    </tr>\n    <tr>\n      <td>315</td>\n      <td>529474</td>\n      <td>72</td>\n      <td>12285</td>\n      <td>177</td>\n      <td>7064</td>\n      <td>8980</td>\n      <td>428</td>\n      <td>2602</td>\n      <td>186</td>\n      <td>0</td>\n      <td>...</td>\n      <td>87</td>\n      <td>78335</td>\n      <td>13436</td>\n      <td>1339</td>\n      <td>21549</td>\n      <td>2791</td>\n      <td>16711</td>\n      <td>8023</td>\n      <td>Confirmed</td>\n      <td>2020-06-27</td>\n    </tr>\n    <tr>\n      <td>316</td>\n      <td>16102</td>\n      <td>0</td>\n      <td>157</td>\n      <td>1</td>\n      <td>8</td>\n      <td>58</td>\n      <td>6</td>\n      <td>13</td>\n      <td>0</td>\n      <td>0</td>\n      <td>...</td>\n      <td>0</td>\n      <td>1025</td>\n      <td>243</td>\n      <td>1</td>\n      <td>649</td>\n      <td>37</td>\n      <td>629</td>\n      <td>0</td>\n      <td>Recovered</td>\n      <td>2020-06-27</td>\n    </tr>\n    <tr>\n      <td>317</td>\n      <td>310137</td>\n      <td>43</td>\n      <td>5480</td>\n      <td>54</td>\n      <td>4815</td>\n      <td>6930</td>\n      <td>335</td>\n      <td>1937</td>\n      <td>56</td>\n      <td>0</td>\n      <td>...</td>\n      <td>40</td>\n      <td>44094</td>\n      <td>4928</td>\n      <td>1078</td>\n      <td>14215</td>\n      <td>1909</td>\n      <td>10789</td>\n      <td>0</td>\n      <td>Deceased</td>\n      <td>2020-06-27</td>\n    </tr>\n  </tbody>\n</table>\n<p>318 rows × 41 columns</p>\n</div>"
     },
     "metadata": {},
     "execution_count": 163
    }
   ],
   "source": [
    "import pandas as pd\n",
    "df = pd.read_csv(\"https://api.covid19india.org/csv/latest/state_wise_daily.csv\")\n",
    "columns = df.columns[2:]\n",
    "date = pd.to_datetime(df['Date'], format =\"%d-%b-%y\")\n",
    "df['Date'] = pd.to_datetime(df['Date'], format =\"%d-%b-%y\")\n",
    "status = df['Status'].copy()\n",
    "\n",
    "df = df.pivot(index='Date', columns='Status')\n",
    "df= df.cumsum(axis=0)\n",
    "df = df.stack(-1)\n",
    "\n",
    "\n",
    "date=pd.DataFrame(date)\n",
    "status=pd.DataFrame(status)\n",
    "\n",
    "index = [x for x in range(0,len(df))]\n",
    "date_col = [date.iloc[n] for n in range(len(date))]\n",
    "status_col = [status.iloc[n] for n in range(len(status))]\n",
    "df['Index']=index\n",
    "df=df.set_index(['Index'])\n",
    "\n",
    "status_col = pd.DataFrame(status_col)\n",
    "df['Status']=status_col\n",
    "date_col = pd.DataFrame(date_col)\n",
    "df['Date']=date_col\n",
    "\n",
    "df"
   ]
  },
  {
   "cell_type": "code",
   "execution_count": 176,
   "metadata": {},
   "outputs": [],
   "source": [
    "import pandas as pd\n",
    "df = pd.read_csv(\"https://api.covid19india.org/csv/latest/state_wise_daily.csv\")\n",
    "columns = df.columns[2:]\n",
    "date = pd.to_datetime(df['Date'], format =\"%d-%b-%y\")\n",
    "df['Date'] = pd.to_datetime(df['Date'], format =\"%d-%b-%y\")\n",
    "status = df['Status'].copy()\n",
    "\n",
    "df = df.pivot(index='Date', columns='Status')\n",
    "df= df.cumsum(axis=0)\n",
    "df = df.stack(-1)\n",
    "\n",
    "index = [x for x in range(0,len(df))]\n",
    "\n",
    "df['Index']=index\n",
    "df=df.set_index(['Index'])"
   ]
  },
  {
   "cell_type": "code",
   "execution_count": 177,
   "metadata": {},
   "outputs": [],
   "source": [
    "df['Status']=status"
   ]
  },
  {
   "cell_type": "code",
   "execution_count": 179,
   "metadata": {},
   "outputs": [],
   "source": [
    "y_conf = df[df['Status']=='Confirmed']"
   ]
  },
  {
   "cell_type": "code",
   "execution_count": 180,
   "metadata": {},
   "outputs": [
    {
     "output_type": "execute_result",
     "data": {
      "text/plain": "           TT  AN     AP   AR    AS    BR   CH    CT   DN  DD  ...     RJ  SK  \\\nIndex                                                          ...              \n0          81   0      1    0     0     0    0     0    0   0  ...      3   0   \n3         108   0      1    0     0     0    0     0    0   0  ...      4   0   \n6         123   0      1    0     0     0    0     0    0   0  ...      4   0   \n9         134   0      1    0     0     0    0     0    0   0  ...      4   0   \n12        171   0      1    0     0     0    0     0    0   0  ...      7   0   \n...       ...  ..    ...  ...   ...   ...  ...   ...  ...  ..  ...    ...  ..   \n306    472882  56  10331  160  6181  8273  420  2419  136   0  ...  16009  83   \n309    491087  58  10884  172  6545  8488  423  2456  156   0  ...  16296  85   \n312    509342  72  11489  174  6818  8678  425  2545  171   0  ...  16660  87   \n315    529484  72  12285  177  7064  8980  428  2610  186   0  ...  16944  87   \n318    549094  83  13098  182  7391  9224  431  2694  190   0  ...  17271  88   \n\n          TN     TG    TR     UP    UT     WB    UN     Status  \nIndex                                                           \n0          1      1     0     12     0      0     0  Confirmed  \n3          1      3     0     13     0      0     0  Confirmed  \n6          1      4     0     13     1      0     0  Confirmed  \n9          1      5     0     15     1      1     0  Confirmed  \n12         2     13     0     17     2      1     0  Confirmed  \n...      ...    ...   ...    ...   ...    ...   ...        ...  \n306    67468  10444  1263  19557  2623  15173  8141  Confirmed  \n309    70977  11364  1295  20193  2691  15648  8493  Confirmed  \n312    74622  12349  1330  20943  2725  16190  8123  Confirmed  \n315    78335  13436  1339  21549  2791  16711  8023  Confirmed  \n318    82275  14419  1351  22147  2823  17283  7839  Confirmed  \n\n[107 rows x 40 columns]",
      "text/html": "<div>\n<style scoped>\n    .dataframe tbody tr th:only-of-type {\n        vertical-align: middle;\n    }\n\n    .dataframe tbody tr th {\n        vertical-align: top;\n    }\n\n    .dataframe thead th {\n        text-align: right;\n    }\n</style>\n<table border=\"1\" class=\"dataframe\">\n  <thead>\n    <tr style=\"text-align: right;\">\n      <th></th>\n      <th>TT</th>\n      <th>AN</th>\n      <th>AP</th>\n      <th>AR</th>\n      <th>AS</th>\n      <th>BR</th>\n      <th>CH</th>\n      <th>CT</th>\n      <th>DN</th>\n      <th>DD</th>\n      <th>...</th>\n      <th>RJ</th>\n      <th>SK</th>\n      <th>TN</th>\n      <th>TG</th>\n      <th>TR</th>\n      <th>UP</th>\n      <th>UT</th>\n      <th>WB</th>\n      <th>UN</th>\n      <th>Status</th>\n    </tr>\n    <tr>\n      <th>Index</th>\n      <th></th>\n      <th></th>\n      <th></th>\n      <th></th>\n      <th></th>\n      <th></th>\n      <th></th>\n      <th></th>\n      <th></th>\n      <th></th>\n      <th></th>\n      <th></th>\n      <th></th>\n      <th></th>\n      <th></th>\n      <th></th>\n      <th></th>\n      <th></th>\n      <th></th>\n      <th></th>\n      <th></th>\n    </tr>\n  </thead>\n  <tbody>\n    <tr>\n      <td>0</td>\n      <td>81</td>\n      <td>0</td>\n      <td>1</td>\n      <td>0</td>\n      <td>0</td>\n      <td>0</td>\n      <td>0</td>\n      <td>0</td>\n      <td>0</td>\n      <td>0</td>\n      <td>...</td>\n      <td>3</td>\n      <td>0</td>\n      <td>1</td>\n      <td>1</td>\n      <td>0</td>\n      <td>12</td>\n      <td>0</td>\n      <td>0</td>\n      <td>0</td>\n      <td>Confirmed</td>\n    </tr>\n    <tr>\n      <td>3</td>\n      <td>108</td>\n      <td>0</td>\n      <td>1</td>\n      <td>0</td>\n      <td>0</td>\n      <td>0</td>\n      <td>0</td>\n      <td>0</td>\n      <td>0</td>\n      <td>0</td>\n      <td>...</td>\n      <td>4</td>\n      <td>0</td>\n      <td>1</td>\n      <td>3</td>\n      <td>0</td>\n      <td>13</td>\n      <td>0</td>\n      <td>0</td>\n      <td>0</td>\n      <td>Confirmed</td>\n    </tr>\n    <tr>\n      <td>6</td>\n      <td>123</td>\n      <td>0</td>\n      <td>1</td>\n      <td>0</td>\n      <td>0</td>\n      <td>0</td>\n      <td>0</td>\n      <td>0</td>\n      <td>0</td>\n      <td>0</td>\n      <td>...</td>\n      <td>4</td>\n      <td>0</td>\n      <td>1</td>\n      <td>4</td>\n      <td>0</td>\n      <td>13</td>\n      <td>1</td>\n      <td>0</td>\n      <td>0</td>\n      <td>Confirmed</td>\n    </tr>\n    <tr>\n      <td>9</td>\n      <td>134</td>\n      <td>0</td>\n      <td>1</td>\n      <td>0</td>\n      <td>0</td>\n      <td>0</td>\n      <td>0</td>\n      <td>0</td>\n      <td>0</td>\n      <td>0</td>\n      <td>...</td>\n      <td>4</td>\n      <td>0</td>\n      <td>1</td>\n      <td>5</td>\n      <td>0</td>\n      <td>15</td>\n      <td>1</td>\n      <td>1</td>\n      <td>0</td>\n      <td>Confirmed</td>\n    </tr>\n    <tr>\n      <td>12</td>\n      <td>171</td>\n      <td>0</td>\n      <td>1</td>\n      <td>0</td>\n      <td>0</td>\n      <td>0</td>\n      <td>0</td>\n      <td>0</td>\n      <td>0</td>\n      <td>0</td>\n      <td>...</td>\n      <td>7</td>\n      <td>0</td>\n      <td>2</td>\n      <td>13</td>\n      <td>0</td>\n      <td>17</td>\n      <td>2</td>\n      <td>1</td>\n      <td>0</td>\n      <td>Confirmed</td>\n    </tr>\n    <tr>\n      <td>...</td>\n      <td>...</td>\n      <td>...</td>\n      <td>...</td>\n      <td>...</td>\n      <td>...</td>\n      <td>...</td>\n      <td>...</td>\n      <td>...</td>\n      <td>...</td>\n      <td>...</td>\n      <td>...</td>\n      <td>...</td>\n      <td>...</td>\n      <td>...</td>\n      <td>...</td>\n      <td>...</td>\n      <td>...</td>\n      <td>...</td>\n      <td>...</td>\n      <td>...</td>\n      <td>...</td>\n    </tr>\n    <tr>\n      <td>306</td>\n      <td>472882</td>\n      <td>56</td>\n      <td>10331</td>\n      <td>160</td>\n      <td>6181</td>\n      <td>8273</td>\n      <td>420</td>\n      <td>2419</td>\n      <td>136</td>\n      <td>0</td>\n      <td>...</td>\n      <td>16009</td>\n      <td>83</td>\n      <td>67468</td>\n      <td>10444</td>\n      <td>1263</td>\n      <td>19557</td>\n      <td>2623</td>\n      <td>15173</td>\n      <td>8141</td>\n      <td>Confirmed</td>\n    </tr>\n    <tr>\n      <td>309</td>\n      <td>491087</td>\n      <td>58</td>\n      <td>10884</td>\n      <td>172</td>\n      <td>6545</td>\n      <td>8488</td>\n      <td>423</td>\n      <td>2456</td>\n      <td>156</td>\n      <td>0</td>\n      <td>...</td>\n      <td>16296</td>\n      <td>85</td>\n      <td>70977</td>\n      <td>11364</td>\n      <td>1295</td>\n      <td>20193</td>\n      <td>2691</td>\n      <td>15648</td>\n      <td>8493</td>\n      <td>Confirmed</td>\n    </tr>\n    <tr>\n      <td>312</td>\n      <td>509342</td>\n      <td>72</td>\n      <td>11489</td>\n      <td>174</td>\n      <td>6818</td>\n      <td>8678</td>\n      <td>425</td>\n      <td>2545</td>\n      <td>171</td>\n      <td>0</td>\n      <td>...</td>\n      <td>16660</td>\n      <td>87</td>\n      <td>74622</td>\n      <td>12349</td>\n      <td>1330</td>\n      <td>20943</td>\n      <td>2725</td>\n      <td>16190</td>\n      <td>8123</td>\n      <td>Confirmed</td>\n    </tr>\n    <tr>\n      <td>315</td>\n      <td>529484</td>\n      <td>72</td>\n      <td>12285</td>\n      <td>177</td>\n      <td>7064</td>\n      <td>8980</td>\n      <td>428</td>\n      <td>2610</td>\n      <td>186</td>\n      <td>0</td>\n      <td>...</td>\n      <td>16944</td>\n      <td>87</td>\n      <td>78335</td>\n      <td>13436</td>\n      <td>1339</td>\n      <td>21549</td>\n      <td>2791</td>\n      <td>16711</td>\n      <td>8023</td>\n      <td>Confirmed</td>\n    </tr>\n    <tr>\n      <td>318</td>\n      <td>549094</td>\n      <td>83</td>\n      <td>13098</td>\n      <td>182</td>\n      <td>7391</td>\n      <td>9224</td>\n      <td>431</td>\n      <td>2694</td>\n      <td>190</td>\n      <td>0</td>\n      <td>...</td>\n      <td>17271</td>\n      <td>88</td>\n      <td>82275</td>\n      <td>14419</td>\n      <td>1351</td>\n      <td>22147</td>\n      <td>2823</td>\n      <td>17283</td>\n      <td>7839</td>\n      <td>Confirmed</td>\n    </tr>\n  </tbody>\n</table>\n<p>107 rows × 40 columns</p>\n</div>"
     },
     "metadata": {},
     "execution_count": 180
    }
   ],
   "source": [
    "y_conf"
   ]
  },
  {
   "cell_type": "code",
   "execution_count": null,
   "metadata": {},
   "outputs": [],
   "source": []
  }
 ],
 "metadata": {
  "language_info": {
   "codemirror_mode": {
    "name": "ipython",
    "version": 3
   },
   "file_extension": ".py",
   "mimetype": "text/x-python",
   "name": "python",
   "nbconvert_exporter": "python",
   "pygments_lexer": "ipython3",
   "version": "3.7.4-final"
  },
  "orig_nbformat": 2,
  "kernelspec": {
   "name": "python3",
   "display_name": "Python 3"
  }
 },
 "nbformat": 4,
 "nbformat_minor": 2
}